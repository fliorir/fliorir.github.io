{
 "cells": [
  {
   "cell_type": "code",
   "execution_count": 1,
   "metadata": {
    "collapsed": true
   },
   "outputs": [],
   "source": [
    "import csv"
   ]
  },
  {
   "cell_type": "code",
   "execution_count": 35,
   "metadata": {
    "collapsed": true
   },
   "outputs": [],
   "source": [
    "book_id = 'shelkovyi'"
   ]
  },
  {
   "cell_type": "code",
   "execution_count": 34,
   "metadata": {
    "collapsed": false
   },
   "outputs": [],
   "source": [
    "image_300dpi = 'fullsize/' + book_id + '.jpg'\n",
    "image_96dpi = 'covers/' + book_id + '.jpg'\n",
    "image_small = 'thumbnails/' + book_id + '_small.jpg'\n",
    "!convert $image_300dpi -resample 96 $image_96dpi\n",
    "!convert -resample 72 $image_96dpi > convert  -resize 34% $image_small"
   ]
  },
  {
   "cell_type": "code",
   "execution_count": 27,
   "metadata": {
    "collapsed": false
   },
   "outputs": [],
   "source": [
    "file_id = \"Shelkovyi\"\n",
    "file_orig = \"people/\" + file_id + \"_orig.jpg\"\n",
    "converted_big = \"people/\" + file_id + \".jpg\"\n",
    "converted_small = \"people/\" + file_id + \"_small.jpg\"\n",
    "!convert $file_orig -resample 72 $converted_small\n",
    "%cp $file_orig $converted_big"
   ]
  },
  {
   "cell_type": "code",
   "execution_count": 28,
   "metadata": {
    "collapsed": false
   },
   "outputs": [],
   "source": [
    "details = {}\n",
    "with open(book_id + '.txt', 'rb') as f:\n",
    "    reader = csv.reader(f, delimiter='\\t')\n",
    "    for row in reader:\n",
    "        details[row[0]] = row[1]"
   ]
  },
  {
   "cell_type": "code",
   "execution_count": 29,
   "metadata": {
    "collapsed": true
   },
   "outputs": [],
   "source": [
    "dict_type = {'poetry':'Поезия', 'prose':'Проза', 'humor':'Хумор', 'children':'Литература за деца'}\n",
    "dict_type['other'] = 'Разни'\n",
    "dict_type['english'] = 'In English'\n",
    "#if dict_type['other'] == 'Разни':\n",
    "#    dict_type['other'] = details['book_genre']"
   ]
  },
  {
   "cell_type": "code",
   "execution_count": 30,
   "metadata": {
    "collapsed": false
   },
   "outputs": [
    {
     "data": {
      "text/plain": [
       "'2016-09-08'"
      ]
     },
     "execution_count": 30,
     "metadata": {},
     "output_type": "execute_result"
    }
   ],
   "source": [
    "date_published = details['date_published']\n",
    "date_published_2 = date_published[6:] + '-' + date_published[3:5] + '-' + date_published[:2]\n",
    "date_published_2"
   ]
  },
  {
   "cell_type": "raw",
   "metadata": {
    "collapsed": false
   },
   "source": [
    "print details\n",
    "print details['title']"
   ]
  },
  {
   "cell_type": "code",
   "execution_count": 31,
   "metadata": {
    "collapsed": false
   },
   "outputs": [],
   "source": [
    "with open('book_template.htm', 'rb') as f:\n",
    "    book_template = f.read()\n",
    "    book_template = book_template.format(title = details['title'], \n",
    "                                         title_caps = details['title'].decode('utf-8').upper().encode( 'utf-8'),\n",
    "                                         publisher = details['publisher'],\n",
    "                                         author = details['author'],\n",
    "                                         book_type = details['book_type'], \n",
    "                                         book_class = details['book_class'],\n",
    "                                         book_type_bg = details['book_type_bg'],\n",
    "                                         book_genre = details['book_genre'],\n",
    "                                         google_id = details['google_id'],\n",
    "                                         isbn = details['isbn'],\n",
    "                                         isbn_text = details['isbn_text'],\n",
    "                                         author_id = details['author_id'],\n",
    "                                         book_id = details['book_id'],\n",
    "                                         date_published = date_published,\n",
    "                                         date_published_2 = date_published_2,\n",
    "                                         circulation =  details['circulation'],\n",
    "                                         number_of_pages = details['number_of_pages'],\n",
    "                                         press_sheets = details['press_sheets'],\n",
    "                                         size = details['size'],\n",
    "                                        )"
   ]
  },
  {
   "cell_type": "code",
   "execution_count": 32,
   "metadata": {
    "collapsed": true
   },
   "outputs": [],
   "source": [
    "with open('details/' + details['book_id'] + '.htm', 'w') as f:\n",
    "    f.write(book_template)"
   ]
  },
  {
   "cell_type": "code",
   "execution_count": 25,
   "metadata": {
    "collapsed": false
   },
   "outputs": [],
   "source": [
    "with open('summary_template.txt', 'rb') as f:\n",
    "    summary_template = f.read()\n",
    "    summary_template = summary_template.format(title = details['title'], \n",
    "                                         title_caps = details['title'].decode('utf-8').upper().encode( 'utf-8'),\n",
    "                                         author = details['author'],\n",
    "                                         book_class = details['book_class'],\n",
    "                                         book_id = book_id,\n",
    "                                         summary = details['summary']\n",
    "                                        )"
   ]
  },
  {
   "cell_type": "code",
   "execution_count": 26,
   "metadata": {
    "collapsed": false
   },
   "outputs": [
    {
     "name": "stdout",
     "output_type": "stream",
     "text": [
      "<div  itemscope itemtype=\"http://schema.org/Book\">\n",
      "<a href=\"details/shelkovyi.htm\"><img src=\"thumbnails/shelkovyi_small.jpg\" alt=\"В родината на Орфей / На родине Орфея\" /></a>\n",
      "<span><b><a href=\"details/shelkovyi.htm\" itemprop=\"url\">В РОДИНАТА НА ОРФЕЙ / НА РОДИНЕ ОРФЕЯ</a></b></span><br />\n",
      "<i>/<span>Стихотворения</span>/</i>\n",
      "<p>\n",
      "<i>Автор: Сергей Шелковий<br/>\n",
      "  ...   </i>\n",
      "</p>\n",
      "<p>Двуезичната книга „В родината на Орфей / На родине Орфея” съдържа над 40 стихотворения на руския и украински поет Сергей Шелковий в превод на на български от Красимир Георгиев.</p>\n",
      "<p></p>\n",
      "</div>\n",
      "\n"
     ]
    }
   ],
   "source": [
    "print summary_template"
   ]
  }
 ],
 "metadata": {
  "kernelspec": {
   "display_name": "Python 2",
   "language": "python",
   "name": "python2"
  },
  "language_info": {
   "codemirror_mode": {
    "name": "ipython",
    "version": 2
   },
   "file_extension": ".py",
   "mimetype": "text/x-python",
   "name": "python",
   "nbconvert_exporter": "python",
   "pygments_lexer": "ipython2",
   "version": "2.7.11"
  }
 },
 "nbformat": 4,
 "nbformat_minor": 0
}
